{
 "cells": [
  {
   "cell_type": "markdown",
   "id": "cc8523c3",
   "metadata": {},
   "source": [
    "# Conditionals (Bedingte Anweisungen)"
   ]
  },
  {
   "cell_type": "code",
   "execution_count": 2,
   "id": "5d05c2f6",
   "metadata": {},
   "outputs": [
    {
     "name": "stdout",
     "output_type": "stream",
     "text": [
      "It's warm\n"
     ]
    }
   ],
   "source": [
    "temp = 20\n",
    "\n",
    "if temp > 15:\n",
    "    print(\"It's warm\")"
   ]
  },
  {
   "cell_type": "code",
   "execution_count": 4,
   "id": "38d26f7c",
   "metadata": {},
   "outputs": [],
   "source": [
    "temp = 10\n",
    "\n",
    "if temp > 15:\n",
    "    print(\"It's warm\")"
   ]
  },
  {
   "cell_type": "code",
   "execution_count": 5,
   "id": "cd2fabd0",
   "metadata": {},
   "outputs": [
    {
     "name": "stdout",
     "output_type": "stream",
     "text": [
      "It's cold\n"
     ]
    }
   ],
   "source": [
    "temp = 10\n",
    "\n",
    "if temp > 15:\n",
    "    print(\"It's warm\")\n",
    "else:\n",
    "    print(\"It's cold\")"
   ]
  },
  {
   "cell_type": "code",
   "execution_count": 6,
   "id": "6ece3f7b",
   "metadata": {},
   "outputs": [
    {
     "name": "stdout",
     "output_type": "stream",
     "text": [
      "It's cold\n"
     ]
    }
   ],
   "source": [
    "temp = 15\n",
    "\n",
    "if temp > 15:\n",
    "    print(\"It's warm\")\n",
    "else:\n",
    "    print(\"It's cold\")"
   ]
  },
  {
   "cell_type": "code",
   "execution_count": 8,
   "id": "049b5575",
   "metadata": {},
   "outputs": [
    {
     "name": "stdout",
     "output_type": "stream",
     "text": [
      "It's warm\n"
     ]
    }
   ],
   "source": [
    "temp = 15\n",
    "\n",
    "if temp >= 15:\n",
    "    print(\"It's warm\")\n",
    "else:\n",
    "    print(\"It's cold\")"
   ]
  },
  {
   "cell_type": "code",
   "execution_count": 10,
   "id": "f71f71b6",
   "metadata": {},
   "outputs": [
    {
     "name": "stdout",
     "output_type": "stream",
     "text": [
      "It's hot.\n"
     ]
    }
   ],
   "source": [
    "temp = 30\n",
    "\n",
    "if temp >= 25:\n",
    "    print(\"It's hot.\")\n",
    "elif temp >= 15:\n",
    "    print(\"It's warm.\")\n",
    "else:\n",
    "    print(\"It's cold.\")"
   ]
  },
  {
   "cell_type": "code",
   "execution_count": null,
   "id": "a17c1999",
   "metadata": {},
   "outputs": [],
   "source": []
  }
 ],
 "metadata": {
  "kernelspec": {
   "display_name": "Python 3 (ipykernel)",
   "language": "python",
   "name": "python3"
  },
  "language_info": {
   "codemirror_mode": {
    "name": "ipython",
    "version": 3
   },
   "file_extension": ".py",
   "mimetype": "text/x-python",
   "name": "python",
   "nbconvert_exporter": "python",
   "pygments_lexer": "ipython3",
   "version": "3.9.13"
  }
 },
 "nbformat": 4,
 "nbformat_minor": 5
}
