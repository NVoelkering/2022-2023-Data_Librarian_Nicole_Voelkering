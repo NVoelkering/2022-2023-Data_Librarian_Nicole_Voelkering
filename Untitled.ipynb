{
 "cells": [
  {
   "cell_type": "code",
   "execution_count": 1,
   "id": "2a349587",
   "metadata": {},
   "outputs": [],
   "source": [
    "import re"
   ]
  },
  {
   "cell_type": "code",
   "execution_count": 16,
   "id": "63d9f940",
   "metadata": {},
   "outputs": [],
   "source": [
    "my_sentence = \"There are some grey trees outside. 6667839. 234234234 sdfsdfsdf\""
   ]
  },
  {
   "cell_type": "code",
   "execution_count": 17,
   "id": "2cadcaef",
   "metadata": {},
   "outputs": [],
   "source": [
    "hits = re.findall(\"\\d+\", my_sentence)"
   ]
  },
  {
   "cell_type": "code",
   "execution_count": 18,
   "id": "683e7dda",
   "metadata": {},
   "outputs": [
    {
     "data": {
      "text/plain": [
       "['6667839', '234234234']"
      ]
     },
     "execution_count": 18,
     "metadata": {},
     "output_type": "execute_result"
    }
   ],
   "source": [
    "hits"
   ]
  },
  {
   "cell_type": "code",
   "execution_count": null,
   "id": "81f1187a",
   "metadata": {},
   "outputs": [],
   "source": []
  }
 ],
 "metadata": {
  "kernelspec": {
   "display_name": "Python 3 (ipykernel)",
   "language": "python",
   "name": "python3"
  },
  "language_info": {
   "codemirror_mode": {
    "name": "ipython",
    "version": 3
   },
   "file_extension": ".py",
   "mimetype": "text/x-python",
   "name": "python",
   "nbconvert_exporter": "python",
   "pygments_lexer": "ipython3",
   "version": "3.9.13"
  }
 },
 "nbformat": 4,
 "nbformat_minor": 5
}
